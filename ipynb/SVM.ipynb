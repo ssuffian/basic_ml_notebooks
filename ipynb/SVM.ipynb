{
 "metadata": {
  "name": "",
  "signature": "sha256:b75204578be14511d734ff9ce7b59f9607c5e94e4a448f2fc6b96f54d6d23c2b"
 },
 "nbformat": 3,
 "nbformat_minor": 0,
 "worksheets": [
  {
   "cells": [
    {
     "cell_type": "code",
     "collapsed": false,
     "input": [
      "print(__doc__)\n",
      "\n",
      "# Author: Gael Varoquaux <gael dot varoquaux at normalesup dot org>\n",
      "# License: BSD 3 clause\n",
      "\n",
      "# Standard scientific Python imports\n",
      "import matplotlib.pyplot as plt\n",
      "%matplotlib inline\n",
      "\n",
      "# Import datasets, classifiers and performance metrics\n",
      "from sklearn import datasets, svm, metrics\n",
      "\n",
      "# The digits dataset\n",
      "digits = datasets.load_digits()\n",
      "\n",
      "# The data that we are interested in is made of 8x8 images of digits, let's\n",
      "# have a look at the first 4 images, stored in the `images` attribute of the\n",
      "# dataset.  If we were working from image files, we could load them using\n",
      "# matplotlib.pyplot.imread.  Note that each image must have the same size. For these\n",
      "# images, we know which digit they represent: it is given in the 'target' of\n",
      "# the dataset.\n",
      "images_and_labels = list(zip(digits.images, digits.target))\n",
      "for index, (image, label) in enumerate(images_and_labels[:4]):\n",
      "    plt.subplot(2, 4, index + 1)\n",
      "    plt.axis('off')\n",
      "    plt.imshow(image, cmap=plt.cm.gray_r, interpolation='nearest')\n",
      "    plt.title('Training: %i' % label)\n",
      "\n",
      "# To apply a classifier on this data, we need to flatten the image, to\n",
      "# turn the data in a (samples, feature) matrix:\n",
      "n_samples = len(digits.images)\n",
      "data = digits.images.reshape((n_samples, -1))\n",
      "\n",
      "# Create a classifier: a support vector classifier\n",
      "classifier = svm.SVC(gamma=0.001)\n",
      "\n",
      "# We learn the digits on the first half of the digits\n",
      "classifier.fit(data[:n_samples / 2], digits.target[:n_samples / 2])\n",
      "\n",
      "# Now predict the value of the digit on the second half:\n",
      "expected = digits.target[n_samples / 2:]\n",
      "predicted = classifier.predict(data[n_samples / 2:])\n",
      "\n",
      "print(\"Classification report for classifier %s:\\n%s\\n\"\n",
      "      % (classifier, metrics.classification_report(expected, predicted)))\n",
      "print(\"Confusion matrix:\\n%s\" % metrics.confusion_matrix(expected, predicted))\n",
      "\n",
      "images_and_predictions = list(zip(digits.images[n_samples / 2:], predicted))\n",
      "for index, (image, prediction) in enumerate(images_and_predictions[:4]):\n",
      "    plt.subplot(2, 4, index + 5)\n",
      "    plt.axis('off')\n",
      "    plt.imshow(image, cmap=plt.cm.gray_r, interpolation='nearest')\n",
      "    plt.title('Prediction: %i' % prediction)\n",
      "\n",
      "plt.show()"
     ],
     "language": "python",
     "metadata": {},
     "outputs": [
      {
       "output_type": "stream",
       "stream": "stdout",
       "text": [
        "Automatically created module for IPython interactive environment\n",
        "Classification report for classifier SVC(C=1.0, cache_size=200, class_weight=None, coef0=0.0,\n",
        "  decision_function_shape=None, degree=3, gamma=0.001, kernel='rbf',\n",
        "  max_iter=-1, probability=False, random_state=None, shrinking=True,\n",
        "  tol=0.001, verbose=False):\n",
        "             precision    recall  f1-score   support\n",
        "\n",
        "          0       1.00      0.99      0.99        88\n",
        "          1       0.99      0.97      0.98        91\n",
        "          2       0.99      0.99      0.99        86\n",
        "          3       0.98      0.87      0.92        91\n",
        "          4       0.99      0.96      0.97        92\n",
        "          5       0.95      0.97      0.96        91\n",
        "          6       0.99      0.99      0.99        91\n",
        "          7       0.96      0.99      0.97        89\n",
        "          8       0.94      1.00      0.97        88\n",
        "          9       0.93      0.98      0.95        92\n",
        "\n",
        "avg / total       0.97      0.97      0.97       899\n",
        "\n"
       ]
      },
      {
       "output_type": "stream",
       "stream": "stdout",
       "text": [
        "\n",
        "Confusion matrix:\n",
        "[[87  0  0  0  1  0  0  0  0  0]\n",
        " [ 0 88  1  0  0  0  0  0  1  1]\n",
        " [ 0  0 85  1  0  0  0  0  0  0]\n",
        " [ 0  0  0 79  0  3  0  4  5  0]\n",
        " [ 0  0  0  0 88  0  0  0  0  4]\n",
        " [ 0  0  0  0  0 88  1  0  0  2]\n",
        " [ 0  1  0  0  0  0 90  0  0  0]\n",
        " [ 0  0  0  0  0  1  0 88  0  0]\n",
        " [ 0  0  0  0  0  0  0  0 88  0]\n",
        " [ 0  0  0  1  0  1  0  0  0 90]]\n"
       ]
      },
      {
       "metadata": {},
       "output_type": "display_data",
       "png": "[encoded data removed]",
       "text": [
        "<matplotlib.figure.Figure at 0x7fdeab24e450>"
       ]
      }
     ],
     "prompt_number": 2
    },
    {
     "cell_type": "code",
     "collapsed": false,
     "input": [
      "n_samples"
     ],
     "language": "python",
     "metadata": {},
     "outputs": [
      {
       "metadata": {},
       "output_type": "pyout",
       "prompt_number": 3,
       "text": [
        "1797"
       ]
      }
     ],
     "prompt_number": 3
    },
    {
     "cell_type": "code",
     "collapsed": false,
     "input": [],
     "language": "python",
     "metadata": {},
     "outputs": []
    }
   ],
   "metadata": {}
  }
 ]
}