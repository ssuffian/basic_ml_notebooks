{
 "metadata": {
  "name": "",
  "signature": "sha256:54e6eb8277815e4b51749ec8933871ac5eca4d9556b436fb4b6036e6acace633"
 },
 "nbformat": 3,
 "nbformat_minor": 0,
 "worksheets": [
  {
   "cells": [
    {
     "cell_type": "code",
     "collapsed": false,
     "input": [
      "#https://github.com/aymericdamien/TensorFlow-Examples/blob/master\n",
      "#/notebooks/3_NeuralNetworks/convolutional_network.ipynb\n",
      "\n",
      "import tensorflow as tf\n",
      "# Import MNIST data\n",
      "from tensorflow.examples.tutorials.mnist import input_data\n",
      "mnist = input_data.read_data_sets(\"/tmp/data/\", one_hot=True)"
     ],
     "language": "python",
     "metadata": {},
     "outputs": [
      {
       "output_type": "stream",
       "stream": "stdout",
       "text": [
        "Extracting /tmp/data/train-images-idx3-ubyte.gz\n",
        "Extracting"
       ]
      },
      {
       "output_type": "stream",
       "stream": "stdout",
       "text": [
        " /tmp/data/train-labels-idx1-ubyte.gz\n",
        "Extracting /tmp/data/t10k-images-idx3-ubyte.gz\n",
        "Extracting /tmp/data/t10k-labels-idx1-ubyte.gz\n"
       ]
      }
     ],
     "prompt_number": 2
    },
    {
     "cell_type": "code",
     "collapsed": false,
     "input": [
      "# Parameters\n",
      "learning_rate = 0.001\n",
      "training_iters = 200000\n",
      "batch_size = 128\n",
      "display_step = 10\n",
      "\n",
      "# Network Parameters\n",
      "n_input = 784 # MNIST data input (img shape: 28*28)\n",
      "n_classes = 10 # MNIST total classes (0-9 digits)\n",
      "dropout = 0.75 # Dropout, probability to keep units\n",
      "\n",
      "# tf Graph input\n",
      "x = tf.placeholder(tf.float32, [None, n_input])\n",
      "y = tf.placeholder(tf.float32, [None, n_classes])\n",
      "keep_prob = tf.placeholder(tf.float32) #dropout (keep probability)"
     ],
     "language": "python",
     "metadata": {},
     "outputs": [],
     "prompt_number": 3
    },
    {
     "cell_type": "code",
     "collapsed": false,
     "input": [
      "# Create some wrappers for simplicity\n",
      "def conv2d(x, W, b, strides=1):\n",
      "    # Conv2D wrapper, with bias and relu activation\n",
      "    x = tf.nn.conv2d(x, W, strides=[1, strides, strides, 1], padding='SAME')\n",
      "    x = tf.nn.bias_add(x, b)\n",
      "    return tf.nn.relu(x)\n",
      "\n",
      "\n",
      "def maxpool2d(x, k=2):\n",
      "    # MaxPool2D wrapper\n",
      "    return tf.nn.max_pool(x, ksize=[1, k, k, 1], strides=[1, k, k, 1],\n",
      "                          padding='SAME')\n",
      "\n",
      "\n",
      "# Create model\n",
      "def conv_net(x, weights, biases, dropout):\n",
      "    # Reshape input picture\n",
      "    x = tf.reshape(x, shape=[-1, 28, 28, 1])\n",
      "\n",
      "    # Convolution Layer\n",
      "    conv1 = conv2d(x, weights['wc1'], biases['bc1'])\n",
      "    # Max Pooling (down-sampling)\n",
      "    conv1 = maxpool2d(conv1, k=2)\n",
      "\n",
      "    # Convolution Layer\n",
      "    conv2 = conv2d(conv1, weights['wc2'], biases['bc2'])\n",
      "    # Max Pooling (down-sampling)\n",
      "    conv2 = maxpool2d(conv2, k=2)\n",
      "\n",
      "    # Fully connected layer\n",
      "    # Reshape conv2 output to fit fully connected layer input\n",
      "    fc1 = tf.reshape(conv2, [-1, weights['wd1'].get_shape().as_list()[0]])\n",
      "    fc1 = tf.add(tf.matmul(fc1, weights['wd1']), biases['bd1'])\n",
      "    fc1 = tf.nn.relu(fc1)\n",
      "    # Apply Dropout\n",
      "    fc1 = tf.nn.dropout(fc1, dropout)\n",
      "\n",
      "    # Output, class prediction\n",
      "    out = tf.add(tf.matmul(fc1, weights['out']), biases['out'])\n",
      "    return out"
     ],
     "language": "python",
     "metadata": {},
     "outputs": [],
     "prompt_number": 4
    },
    {
     "cell_type": "code",
     "collapsed": false,
     "input": [
      "# Store layers weight & bias\n",
      "weights = {\n",
      "    # 5x5 conv, 1 input, 32 outputs\n",
      "    'wc1': tf.Variable(tf.random_normal([5, 5, 1, 32])),\n",
      "    # 5x5 conv, 32 inputs, 64 outputs\n",
      "    'wc2': tf.Variable(tf.random_normal([5, 5, 32, 64])),\n",
      "    # fully connected, 7*7*64 inputs, 1024 outputs\n",
      "    'wd1': tf.Variable(tf.random_normal([7*7*64, 1024])),\n",
      "    # 1024 inputs, 10 outputs (class prediction)\n",
      "    'out': tf.Variable(tf.random_normal([1024, n_classes]))\n",
      "}\n",
      "\n",
      "biases = {\n",
      "    'bc1': tf.Variable(tf.random_normal([32])),\n",
      "    'bc2': tf.Variable(tf.random_normal([64])),\n",
      "    'bd1': tf.Variable(tf.random_normal([1024])),\n",
      "    'out': tf.Variable(tf.random_normal([n_classes]))\n",
      "}\n",
      "\n",
      "# Construct model\n",
      "pred = conv_net(x, weights, biases, keep_prob)\n",
      "\n",
      "# Define loss and optimizer\n",
      "cost = tf.reduce_mean(tf.nn.softmax_cross_entropy_with_logits(pred, y))\n",
      "optimizer = tf.train.AdamOptimizer(learning_rate=learning_rate).minimize(cost)\n",
      "\n",
      "# Evaluate model\n",
      "correct_pred = tf.equal(tf.argmax(pred, 1), tf.argmax(y, 1))\n",
      "accuracy = tf.reduce_mean(tf.cast(correct_pred, tf.float32))\n",
      "\n",
      "# Initializing the variables\n",
      "init = tf.initialize_all_variables()"
     ],
     "language": "python",
     "metadata": {},
     "outputs": [],
     "prompt_number": 5
    },
    {
     "cell_type": "code",
     "collapsed": false,
     "input": [
      "# Launch the graph\n",
      "with tf.Session() as sess:\n",
      "    sess.run(init)\n",
      "    step = 1\n",
      "    # Keep training until reach max iterations\n",
      "    while step * batch_size < training_iters:\n",
      "        batch_x, batch_y = mnist.train.next_batch(batch_size)\n",
      "        # Run optimization op (backprop)\n",
      "        sess.run(optimizer, feed_dict={x: batch_x, y: batch_y,\n",
      "                                       keep_prob: dropout})\n",
      "        if step % display_step == 0:\n",
      "            # Calculate batch loss and accuracy\n",
      "            loss, acc = sess.run([cost, accuracy], feed_dict={x: batch_x,\n",
      "                                                              y: batch_y,\n",
      "                                                              keep_prob: 1.})\n",
      "            print \"Iter \" + str(step*batch_size) + \", Minibatch Loss= \" + \\\n",
      "                  \"{:.6f}\".format(loss) + \", Training Accuracy= \" + \\\n",
      "                  \"{:.5f}\".format(acc)\n",
      "        step += 1\n",
      "    print \"Optimization Finished!\"\n",
      "\n",
      "    # Calculate accuracy for 256 mnist test images\n",
      "    print \"Testing Accuracy:\", \\\n",
      "        sess.run(accuracy, feed_dict={x: mnist.test.images[:256],\n",
      "                                      y: mnist.test.labels[:256],\n",
      "                                      keep_prob: 1.})\n",
      "\n"
     ],
     "language": "python",
     "metadata": {},
     "outputs": [
      {
       "output_type": "stream",
       "stream": "stdout",
       "text": [
        "Iter 1280, Minibatch Loss= 25417.449219, Training Accuracy= 0.32812\n",
        "Iter 2560, Minibatch Loss= 8237.037109, Training Accuracy= 0.57031"
       ]
      },
      {
       "output_type": "stream",
       "stream": "stdout",
       "text": [
        "\n",
        "Iter 3840, Minibatch Loss= 9192.729492, Training Accuracy= 0.58594"
       ]
      },
      {
       "output_type": "stream",
       "stream": "stdout",
       "text": [
        "\n",
        "Iter 5120, Minibatch Loss= 5229.496094, Training Accuracy= 0.73438"
       ]
      },
      {
       "output_type": "stream",
       "stream": "stdout",
       "text": [
        "\n",
        "Iter 6400, Minibatch Loss= 3208.346191, Training Accuracy= 0.82031"
       ]
      },
      {
       "output_type": "stream",
       "stream": "stdout",
       "text": [
        "\n",
        "Iter 7680, Minibatch Loss= 8396.099609, Training Accuracy= 0.75781"
       ]
      },
      {
       "output_type": "stream",
       "stream": "stdout",
       "text": [
        "\n",
        "Iter 8960, Minibatch Loss= 3712.033691, Training Accuracy= 0.78125"
       ]
      },
      {
       "output_type": "stream",
       "stream": "stdout",
       "text": [
        "\n",
        "Iter 10240, Minibatch Loss= 2838.401855, Training Accuracy= 0.86719"
       ]
      },
      {
       "output_type": "stream",
       "stream": "stdout",
       "text": [
        "\n",
        "Iter 11520, Minibatch Loss= 1821.982422, Training Accuracy= 0.90625"
       ]
      },
      {
       "output_type": "stream",
       "stream": "stdout",
       "text": [
        "\n",
        "Iter 12800, Minibatch Loss= 5113.607422, Training Accuracy= 0.78125"
       ]
      },
      {
       "output_type": "stream",
       "stream": "stdout",
       "text": [
        "\n",
        "Iter 14080, Minibatch Loss= 2068.822266, Training Accuracy= 0.85938"
       ]
      },
      {
       "output_type": "stream",
       "stream": "stdout",
       "text": [
        "\n",
        "Iter 15360, Minibatch Loss= 890.668701, Training Accuracy= 0.91406"
       ]
      },
      {
       "output_type": "stream",
       "stream": "stdout",
       "text": [
        "\n",
        "Iter 16640, Minibatch Loss= 1692.011475, Training Accuracy= 0.88281"
       ]
      },
      {
       "output_type": "stream",
       "stream": "stdout",
       "text": [
        "\n",
        "Iter 17920, Minibatch Loss= 715.121338, Training Accuracy= 0.92188"
       ]
      },
      {
       "output_type": "stream",
       "stream": "stdout",
       "text": [
        "\n",
        "Iter 19200, Minibatch Loss= 1876.156982, Training Accuracy= 0.88281"
       ]
      },
      {
       "output_type": "stream",
       "stream": "stdout",
       "text": [
        "\n",
        "Iter 20480, Minibatch Loss= 305.044281, Training Accuracy= 0.94531"
       ]
      },
      {
       "output_type": "stream",
       "stream": "stdout",
       "text": [
        "\n",
        "Iter 21760, Minibatch Loss= 2774.142090, Training Accuracy= 0.82812"
       ]
      },
      {
       "output_type": "stream",
       "stream": "stdout",
       "text": [
        "\n",
        "Iter 23040, Minibatch Loss= 1074.656494, Training Accuracy= 0.95312"
       ]
      },
      {
       "output_type": "stream",
       "stream": "stdout",
       "text": [
        "\n",
        "Iter 24320, Minibatch Loss= 1236.101685, Training Accuracy= 0.89844"
       ]
      },
      {
       "output_type": "stream",
       "stream": "stdout",
       "text": [
        "\n",
        "Iter 25600, Minibatch Loss= 2074.145996, Training Accuracy= 0.86719"
       ]
      },
      {
       "output_type": "stream",
       "stream": "stdout",
       "text": [
        "\n",
        "Iter 26880, Minibatch Loss= 1605.757202, Training Accuracy= 0.92188"
       ]
      },
      {
       "output_type": "stream",
       "stream": "stdout",
       "text": [
        "\n",
        "Iter 28160, Minibatch Loss= 672.464050, Training Accuracy= 0.96094"
       ]
      },
      {
       "output_type": "stream",
       "stream": "stdout",
       "text": [
        "\n",
        "Iter 29440, Minibatch Loss= 677.066650, Training Accuracy= 0.92188"
       ]
      },
      {
       "output_type": "stream",
       "stream": "stdout",
       "text": [
        "\n",
        "Iter 30720, Minibatch Loss= 1171.247803, Training Accuracy= 0.89844"
       ]
      },
      {
       "output_type": "stream",
       "stream": "stdout",
       "text": [
        "\n",
        "Iter 32000, Minibatch Loss= 840.390625, Training Accuracy= 0.92188"
       ]
      },
      {
       "output_type": "stream",
       "stream": "stdout",
       "text": [
        "\n",
        "Iter 33280, Minibatch Loss= 988.437500, Training Accuracy= 0.92969"
       ]
      },
      {
       "output_type": "stream",
       "stream": "stdout",
       "text": [
        "\n",
        "Iter 34560, Minibatch Loss= 877.056519, Training Accuracy= 0.95312"
       ]
      },
      {
       "output_type": "stream",
       "stream": "stdout",
       "text": [
        "\n",
        "Iter 35840, Minibatch Loss= 601.196655, Training Accuracy= 0.93750"
       ]
      },
      {
       "output_type": "stream",
       "stream": "stdout",
       "text": [
        "\n",
        "Iter 37120, Minibatch Loss= 1053.885010, Training Accuracy= 0.92969"
       ]
      },
      {
       "output_type": "stream",
       "stream": "stdout",
       "text": [
        "\n",
        "Iter 38400, Minibatch Loss= 532.682617, Training Accuracy= 0.96094"
       ]
      },
      {
       "output_type": "stream",
       "stream": "stdout",
       "text": [
        "\n",
        "Iter 39680, Minibatch Loss= 209.429276, Training Accuracy= 0.97656"
       ]
      },
      {
       "output_type": "stream",
       "stream": "stdout",
       "text": [
        "\n",
        "Iter 40960, Minibatch Loss= 1406.617188, Training Accuracy= 0.85938"
       ]
      },
      {
       "output_type": "stream",
       "stream": "stdout",
       "text": [
        "\n",
        "Iter 42240, Minibatch Loss= 645.819031, Training Accuracy= 0.94531"
       ]
      },
      {
       "output_type": "stream",
       "stream": "stdout",
       "text": [
        "\n",
        "Iter 43520, Minibatch Loss= 620.968140, Training Accuracy= 0.95312"
       ]
      },
      {
       "output_type": "stream",
       "stream": "stdout",
       "text": [
        "\n",
        "Iter 44800, Minibatch Loss= 321.941345, Training Accuracy= 0.96094"
       ]
      },
      {
       "output_type": "stream",
       "stream": "stdout",
       "text": [
        "\n",
        "Iter 46080, Minibatch Loss= 47.750839, Training Accuracy= 0.97656"
       ]
      },
      {
       "output_type": "stream",
       "stream": "stdout",
       "text": [
        "\n",
        "Iter 47360, Minibatch Loss= 1036.429932, Training Accuracy= 0.94531"
       ]
      },
      {
       "output_type": "stream",
       "stream": "stdout",
       "text": [
        "\n",
        "Iter 48640, Minibatch Loss= 1267.286621, Training Accuracy= 0.92188"
       ]
      },
      {
       "output_type": "stream",
       "stream": "stdout",
       "text": [
        "\n",
        "Iter 49920, Minibatch Loss= 994.188477, Training Accuracy= 0.89844"
       ]
      },
      {
       "output_type": "stream",
       "stream": "stdout",
       "text": [
        "\n",
        "Iter 51200, Minibatch Loss= 236.722412, Training Accuracy= 0.96094"
       ]
      },
      {
       "output_type": "stream",
       "stream": "stdout",
       "text": [
        "\n",
        "Iter 52480, Minibatch Loss= 179.393250, Training Accuracy= 0.96094"
       ]
      },
      {
       "output_type": "stream",
       "stream": "stdout",
       "text": [
        "\n",
        "Iter 53760, Minibatch Loss= 19.557251, Training Accuracy= 0.98438"
       ]
      },
      {
       "output_type": "stream",
       "stream": "stdout",
       "text": [
        "\n",
        "Iter 55040, Minibatch Loss= 846.408813, Training Accuracy= 0.94531"
       ]
      },
      {
       "output_type": "stream",
       "stream": "stdout",
       "text": [
        "\n",
        "Iter 56320, Minibatch Loss= 315.144623, Training Accuracy= 0.94531"
       ]
      },
      {
       "output_type": "stream",
       "stream": "stdout",
       "text": [
        "\n",
        "Iter 57600, Minibatch Loss= 282.917053, Training Accuracy= 0.96094"
       ]
      },
      {
       "output_type": "stream",
       "stream": "stdout",
       "text": [
        "\n",
        "Iter 58880, Minibatch Loss= 714.244995, Training Accuracy= 0.93750"
       ]
      },
      {
       "output_type": "stream",
       "stream": "stdout",
       "text": [
        "\n",
        "Iter 60160, Minibatch Loss= 353.119446, Training Accuracy= 0.95312"
       ]
      },
      {
       "output_type": "stream",
       "stream": "stdout",
       "text": [
        "\n",
        "Iter 61440, Minibatch Loss= 774.820312, Training Accuracy= 0.95312"
       ]
      },
      {
       "output_type": "stream",
       "stream": "stdout",
       "text": [
        "\n",
        "Iter 62720, Minibatch Loss= 963.752258, Training Accuracy= 0.94531"
       ]
      },
      {
       "output_type": "stream",
       "stream": "stdout",
       "text": [
        "\n",
        "Iter 64000, Minibatch Loss= 523.675903, Training Accuracy= 0.92188"
       ]
      },
      {
       "output_type": "stream",
       "stream": "stdout",
       "text": [
        "\n",
        "Iter 65280, Minibatch Loss= 353.647614, Training Accuracy= 0.96094"
       ]
      },
      {
       "output_type": "stream",
       "stream": "stdout",
       "text": [
        "\n",
        "Iter 66560, Minibatch Loss= 780.589600, Training Accuracy= 0.90625"
       ]
      },
      {
       "output_type": "stream",
       "stream": "stdout",
       "text": [
        "\n",
        "Iter 67840, Minibatch Loss= 710.638550, Training Accuracy= 0.93750"
       ]
      },
      {
       "output_type": "stream",
       "stream": "stdout",
       "text": [
        "\n",
        "Iter 69120, Minibatch Loss= 318.479736, Training Accuracy= 0.96094"
       ]
      },
      {
       "output_type": "stream",
       "stream": "stdout",
       "text": [
        "\n",
        "Iter 70400, Minibatch Loss= 871.833923, Training Accuracy= 0.95312"
       ]
      },
      {
       "output_type": "stream",
       "stream": "stdout",
       "text": [
        "\n",
        "Iter 71680, Minibatch Loss= 259.117767, Training Accuracy= 0.95312"
       ]
      },
      {
       "output_type": "stream",
       "stream": "stdout",
       "text": [
        "\n",
        "Iter 72960, Minibatch Loss= 469.456879, Training Accuracy= 0.96094"
       ]
      },
      {
       "output_type": "stream",
       "stream": "stdout",
       "text": [
        "\n",
        "Iter 74240, Minibatch Loss= 519.607910, Training Accuracy= 0.96094"
       ]
      },
      {
       "output_type": "stream",
       "stream": "stdout",
       "text": [
        "\n",
        "Iter 75520, Minibatch Loss= 56.779327, Training Accuracy= 0.99219"
       ]
      },
      {
       "output_type": "stream",
       "stream": "stdout",
       "text": [
        "\n",
        "Iter 76800, Minibatch Loss= 565.698975, Training Accuracy= 0.94531"
       ]
      },
      {
       "output_type": "stream",
       "stream": "stdout",
       "text": [
        "\n",
        "Iter 78080, Minibatch Loss= 611.281555, Training Accuracy= 0.95312"
       ]
      },
      {
       "output_type": "stream",
       "stream": "stdout",
       "text": [
        "\n",
        "Iter 79360, Minibatch Loss= 491.827576, Training Accuracy= 0.92969"
       ]
      },
      {
       "output_type": "stream",
       "stream": "stdout",
       "text": [
        "\n",
        "Iter 80640, Minibatch Loss= 824.448181, Training Accuracy= 0.95312"
       ]
      },
      {
       "output_type": "stream",
       "stream": "stdout",
       "text": [
        "\n",
        "Iter 81920, Minibatch Loss= 304.861450, Training Accuracy= 0.97656"
       ]
      },
      {
       "output_type": "stream",
       "stream": "stdout",
       "text": [
        "\n",
        "Iter 83200, Minibatch Loss= 284.953613, Training Accuracy= 0.96875"
       ]
      },
      {
       "output_type": "stream",
       "stream": "stdout",
       "text": [
        "\n",
        "Iter 84480, Minibatch Loss= 438.250275, Training Accuracy= 0.96094"
       ]
      },
      {
       "output_type": "stream",
       "stream": "stdout",
       "text": [
        "\n",
        "Iter 85760, Minibatch Loss= 214.584976, Training Accuracy= 0.97656"
       ]
      },
      {
       "output_type": "stream",
       "stream": "stdout",
       "text": [
        "\n",
        "Iter 87040, Minibatch Loss= 383.817871, Training Accuracy= 0.95312"
       ]
      },
      {
       "output_type": "stream",
       "stream": "stdout",
       "text": [
        "\n",
        "Iter 88320, Minibatch Loss= 406.639374, Training Accuracy= 0.96875"
       ]
      },
      {
       "output_type": "stream",
       "stream": "stdout",
       "text": [
        "\n",
        "Iter 89600, Minibatch Loss= 734.936279, Training Accuracy= 0.92969"
       ]
      },
      {
       "output_type": "stream",
       "stream": "stdout",
       "text": [
        "\n",
        "Iter 90880, Minibatch Loss= 468.432617, Training Accuracy= 0.95312"
       ]
      },
      {
       "output_type": "stream",
       "stream": "stdout",
       "text": [
        "\n",
        "Iter 92160, Minibatch Loss= 632.003967, Training Accuracy= 0.92969"
       ]
      },
      {
       "output_type": "stream",
       "stream": "stdout",
       "text": [
        "\n",
        "Iter 93440, Minibatch Loss= 242.374542, Training Accuracy= 0.97656"
       ]
      },
      {
       "output_type": "stream",
       "stream": "stdout",
       "text": [
        "\n",
        "Iter 94720, Minibatch Loss= 102.972359, Training Accuracy= 0.97656"
       ]
      },
      {
       "output_type": "stream",
       "stream": "stdout",
       "text": [
        "\n",
        "Iter 96000, Minibatch Loss= 143.555176, Training Accuracy= 0.95312"
       ]
      },
      {
       "output_type": "stream",
       "stream": "stdout",
       "text": [
        "\n",
        "Iter 97280, Minibatch Loss= 256.744385, Training Accuracy= 0.97656"
       ]
      },
      {
       "output_type": "stream",
       "stream": "stdout",
       "text": [
        "\n",
        "Iter 98560, Minibatch Loss= 202.639725, Training Accuracy= 0.96875"
       ]
      },
      {
       "output_type": "stream",
       "stream": "stdout",
       "text": [
        "\n",
        "Iter 99840, Minibatch Loss= 214.804611, Training Accuracy= 0.97656"
       ]
      },
      {
       "output_type": "stream",
       "stream": "stdout",
       "text": [
        "\n",
        "Iter 101120, Minibatch Loss= 118.774872, Training Accuracy= 0.98438"
       ]
      },
      {
       "output_type": "stream",
       "stream": "stdout",
       "text": [
        "\n",
        "Iter 102400, Minibatch Loss= 438.681885, Training Accuracy= 0.95312"
       ]
      },
      {
       "output_type": "stream",
       "stream": "stdout",
       "text": [
        "\n",
        "Iter 103680, Minibatch Loss= 523.193848, Training Accuracy= 0.95312"
       ]
      },
      {
       "output_type": "stream",
       "stream": "stdout",
       "text": [
        "\n",
        "Iter 104960, Minibatch Loss= 328.405945, Training Accuracy= 0.95312"
       ]
      },
      {
       "output_type": "stream",
       "stream": "stdout",
       "text": [
        "\n",
        "Iter 106240, Minibatch Loss= 211.684586, Training Accuracy= 0.96875"
       ]
      },
      {
       "output_type": "stream",
       "stream": "stdout",
       "text": [
        "\n",
        "Iter 107520, Minibatch Loss= 521.088928, Training Accuracy= 0.95312"
       ]
      },
      {
       "output_type": "stream",
       "stream": "stdout",
       "text": [
        "\n",
        "Iter 108800, Minibatch Loss= 273.924591, Training Accuracy= 0.95312"
       ]
      },
      {
       "output_type": "stream",
       "stream": "stdout",
       "text": [
        "\n",
        "Iter 110080, Minibatch Loss= 247.201889, Training Accuracy= 0.94531"
       ]
      },
      {
       "output_type": "stream",
       "stream": "stdout",
       "text": [
        "\n",
        "Iter 111360, Minibatch Loss= 257.386963, Training Accuracy= 0.97656"
       ]
      },
      {
       "output_type": "stream",
       "stream": "stdout",
       "text": [
        "\n",
        "Iter 112640, Minibatch Loss= 528.176147, Training Accuracy= 0.95312"
       ]
      },
      {
       "output_type": "stream",
       "stream": "stdout",
       "text": [
        "\n",
        "Iter 113920, Minibatch Loss= 291.324432, Training Accuracy= 0.94531"
       ]
      },
      {
       "output_type": "stream",
       "stream": "stdout",
       "text": [
        "\n",
        "Iter 115200, Minibatch Loss= 484.082397, Training Accuracy= 0.96875"
       ]
      },
      {
       "output_type": "stream",
       "stream": "stdout",
       "text": [
        "\n",
        "Iter 116480, Minibatch Loss= 88.789673, Training Accuracy= 0.98438"
       ]
      },
      {
       "output_type": "stream",
       "stream": "stdout",
       "text": [
        "\n",
        "Iter 117760, Minibatch Loss= 82.162949, Training Accuracy= 0.98438"
       ]
      },
      {
       "output_type": "stream",
       "stream": "stdout",
       "text": [
        "\n",
        "Iter 119040, Minibatch Loss= 47.357834, Training Accuracy= 0.99219"
       ]
      },
      {
       "output_type": "stream",
       "stream": "stdout",
       "text": [
        "\n",
        "Iter 120320, Minibatch Loss= 300.906708, Training Accuracy= 0.97656"
       ]
      },
      {
       "output_type": "stream",
       "stream": "stdout",
       "text": [
        "\n",
        "Iter 121600, Minibatch Loss= 79.868881, Training Accuracy= 0.98438"
       ]
      },
      {
       "output_type": "stream",
       "stream": "stdout",
       "text": [
        "\n",
        "Iter 122880, Minibatch Loss= 0.000000, Training Accuracy= 1.00000"
       ]
      },
      {
       "output_type": "stream",
       "stream": "stdout",
       "text": [
        "\n",
        "Iter 124160, Minibatch Loss= 1071.046875, Training Accuracy= 0.91406"
       ]
      },
      {
       "output_type": "stream",
       "stream": "stdout",
       "text": [
        "\n",
        "Iter 125440, Minibatch Loss= 492.945374, Training Accuracy= 0.94531"
       ]
      },
      {
       "output_type": "stream",
       "stream": "stdout",
       "text": [
        "\n",
        "Iter 126720, Minibatch Loss= 43.208260, Training Accuracy= 0.97656"
       ]
      },
      {
       "output_type": "stream",
       "stream": "stdout",
       "text": [
        "\n",
        "Iter 128000, Minibatch Loss= 185.304794, Training Accuracy= 0.96875"
       ]
      },
      {
       "output_type": "stream",
       "stream": "stdout",
       "text": [
        "\n",
        "Iter 129280, Minibatch Loss= 278.374908, Training Accuracy= 0.96875"
       ]
      },
      {
       "output_type": "stream",
       "stream": "stdout",
       "text": [
        "\n",
        "Iter 130560, Minibatch Loss= 358.341614, Training Accuracy= 0.96875"
       ]
      },
      {
       "output_type": "stream",
       "stream": "stdout",
       "text": [
        "\n",
        "Iter 131840, Minibatch Loss= 196.344543, Training Accuracy= 0.96094"
       ]
      },
      {
       "output_type": "stream",
       "stream": "stdout",
       "text": [
        "\n",
        "Iter 133120, Minibatch Loss= 375.901978, Training Accuracy= 0.93750"
       ]
      },
      {
       "output_type": "stream",
       "stream": "stdout",
       "text": [
        "\n",
        "Iter 134400, Minibatch Loss= 229.565811, Training Accuracy= 0.94531"
       ]
      },
      {
       "output_type": "stream",
       "stream": "stdout",
       "text": [
        "\n",
        "Iter 135680, Minibatch Loss= 111.624649, Training Accuracy= 0.97656"
       ]
      },
      {
       "output_type": "stream",
       "stream": "stdout",
       "text": [
        "\n",
        "Iter 136960, Minibatch Loss= 165.683014, Training Accuracy= 0.96094"
       ]
      },
      {
       "output_type": "stream",
       "stream": "stdout",
       "text": [
        "\n",
        "Iter 138240, Minibatch Loss= 75.317795, Training Accuracy= 0.98438"
       ]
      },
      {
       "output_type": "stream",
       "stream": "stdout",
       "text": [
        "\n",
        "Iter 139520, Minibatch Loss= 404.029144, Training Accuracy= 0.97656"
       ]
      },
      {
       "output_type": "stream",
       "stream": "stdout",
       "text": [
        "\n",
        "Iter 140800, Minibatch Loss= 283.954895, Training Accuracy= 0.96875"
       ]
      },
      {
       "output_type": "stream",
       "stream": "stdout",
       "text": [
        "\n",
        "Iter 142080, Minibatch Loss= 71.462830, Training Accuracy= 0.96875"
       ]
      },
      {
       "output_type": "stream",
       "stream": "stdout",
       "text": [
        "\n",
        "Iter 143360, Minibatch Loss= 456.796814, Training Accuracy= 0.95312"
       ]
      },
      {
       "output_type": "stream",
       "stream": "stdout",
       "text": [
        "\n",
        "Iter 144640, Minibatch Loss= 49.416626, Training Accuracy= 0.99219"
       ]
      },
      {
       "output_type": "stream",
       "stream": "stdout",
       "text": [
        "\n",
        "Iter 145920, Minibatch Loss= 361.666779, Training Accuracy= 0.97656"
       ]
      },
      {
       "output_type": "stream",
       "stream": "stdout",
       "text": [
        "\n",
        "Iter 147200, Minibatch Loss= 397.569214, Training Accuracy= 0.95312"
       ]
      },
      {
       "output_type": "stream",
       "stream": "stdout",
       "text": [
        "\n",
        "Iter 148480, Minibatch Loss= 41.597885, Training Accuracy= 0.98438"
       ]
      },
      {
       "output_type": "stream",
       "stream": "stdout",
       "text": [
        "\n",
        "Iter 149760, Minibatch Loss= 526.106079, Training Accuracy= 0.95312"
       ]
      },
      {
       "output_type": "stream",
       "stream": "stdout",
       "text": [
        "\n",
        "Iter 151040, Minibatch Loss= 66.130142, Training Accuracy= 0.96094"
       ]
      },
      {
       "output_type": "stream",
       "stream": "stdout",
       "text": [
        "\n",
        "Iter 152320, Minibatch Loss= 239.070679, Training Accuracy= 0.93750"
       ]
      },
      {
       "output_type": "stream",
       "stream": "stdout",
       "text": [
        "\n",
        "Iter 153600, Minibatch Loss= 381.370483, Training Accuracy= 0.96875"
       ]
      },
      {
       "output_type": "stream",
       "stream": "stdout",
       "text": [
        "\n",
        "Iter 154880, Minibatch Loss= 214.623001, Training Accuracy= 0.95312"
       ]
      },
      {
       "output_type": "stream",
       "stream": "stdout",
       "text": [
        "\n",
        "Iter 156160, Minibatch Loss= 206.675903, Training Accuracy= 0.96875"
       ]
      },
      {
       "output_type": "stream",
       "stream": "stdout",
       "text": [
        "\n",
        "Iter 157440, Minibatch Loss= 279.202362, Training Accuracy= 0.96094"
       ]
      },
      {
       "output_type": "stream",
       "stream": "stdout",
       "text": [
        "\n",
        "Iter 158720, Minibatch Loss= 299.199341, Training Accuracy= 0.96875"
       ]
      },
      {
       "output_type": "stream",
       "stream": "stdout",
       "text": [
        "\n",
        "Iter 160000, Minibatch Loss= 277.060486, Training Accuracy= 0.95312"
       ]
      },
      {
       "output_type": "stream",
       "stream": "stdout",
       "text": [
        "\n",
        "Iter 161280, Minibatch Loss= 381.387848, Training Accuracy= 0.95312"
       ]
      },
      {
       "output_type": "stream",
       "stream": "stdout",
       "text": [
        "\n",
        "Iter 162560, Minibatch Loss= 396.093353, Training Accuracy= 0.97656"
       ]
      },
      {
       "output_type": "stream",
       "stream": "stdout",
       "text": [
        "\n",
        "Iter 163840, Minibatch Loss= 57.482079, Training Accuracy= 0.96875"
       ]
      },
      {
       "output_type": "stream",
       "stream": "stdout",
       "text": [
        "\n",
        "Iter 165120, Minibatch Loss= 150.512466, Training Accuracy= 0.98438"
       ]
      },
      {
       "output_type": "stream",
       "stream": "stdout",
       "text": [
        "\n",
        "Iter 166400, Minibatch Loss= 80.913902, Training Accuracy= 0.96875"
       ]
      },
      {
       "output_type": "stream",
       "stream": "stdout",
       "text": [
        "\n",
        "Iter 167680, Minibatch Loss= 82.915054, Training Accuracy= 0.97656"
       ]
      },
      {
       "output_type": "stream",
       "stream": "stdout",
       "text": [
        "\n",
        "Iter 168960, Minibatch Loss= 229.448151, Training Accuracy= 0.97656"
       ]
      },
      {
       "output_type": "stream",
       "stream": "stdout",
       "text": [
        "\n",
        "Iter 170240, Minibatch Loss= 197.742920, Training Accuracy= 0.97656"
       ]
      },
      {
       "output_type": "stream",
       "stream": "stdout",
       "text": [
        "\n",
        "Iter 171520, Minibatch Loss= 248.692398, Training Accuracy= 0.96094"
       ]
      },
      {
       "output_type": "stream",
       "stream": "stdout",
       "text": [
        "\n",
        "Iter 172800, Minibatch Loss= 310.159088, Training Accuracy= 0.96094"
       ]
      },
      {
       "output_type": "stream",
       "stream": "stdout",
       "text": [
        "\n",
        "Iter 174080, Minibatch Loss= 0.000000, Training Accuracy= 1.00000"
       ]
      },
      {
       "output_type": "stream",
       "stream": "stdout",
       "text": [
        "\n",
        "Iter 175360, Minibatch Loss= 193.852341, Training Accuracy= 0.96875"
       ]
      },
      {
       "output_type": "stream",
       "stream": "stdout",
       "text": [
        "\n",
        "Iter 176640, Minibatch Loss= 28.652786, Training Accuracy= 0.99219"
       ]
      },
      {
       "output_type": "stream",
       "stream": "stdout",
       "text": [
        "\n",
        "Iter 177920, Minibatch Loss= 122.760559, Training Accuracy= 0.98438"
       ]
      },
      {
       "output_type": "stream",
       "stream": "stdout",
       "text": [
        "\n",
        "Iter 179200, Minibatch Loss= 85.237297, Training Accuracy= 0.99219"
       ]
      },
      {
       "output_type": "stream",
       "stream": "stdout",
       "text": [
        "\n",
        "Iter 180480, Minibatch Loss= 77.241432, Training Accuracy= 0.97656"
       ]
      },
      {
       "output_type": "stream",
       "stream": "stdout",
       "text": [
        "\n",
        "Iter 181760, Minibatch Loss= 218.583221, Training Accuracy= 0.97656"
       ]
      },
      {
       "output_type": "stream",
       "stream": "stdout",
       "text": [
        "\n",
        "Iter 183040, Minibatch Loss= 241.704590, Training Accuracy= 0.95312"
       ]
      },
      {
       "output_type": "stream",
       "stream": "stdout",
       "text": [
        "\n",
        "Iter 184320, Minibatch Loss= 105.181671, Training Accuracy= 0.96875"
       ]
      },
      {
       "output_type": "stream",
       "stream": "stdout",
       "text": [
        "\n",
        "Iter 185600, Minibatch Loss= 213.302109, Training Accuracy= 0.97656"
       ]
      },
      {
       "output_type": "stream",
       "stream": "stdout",
       "text": [
        "\n",
        "Iter 186880, Minibatch Loss= 188.388336, Training Accuracy= 0.96094"
       ]
      },
      {
       "output_type": "stream",
       "stream": "stdout",
       "text": [
        "\n",
        "Iter 188160, Minibatch Loss= 377.942993, Training Accuracy= 0.96875"
       ]
      },
      {
       "output_type": "stream",
       "stream": "stdout",
       "text": [
        "\n",
        "Iter 189440, Minibatch Loss= 147.882416, Training Accuracy= 0.98438"
       ]
      },
      {
       "output_type": "stream",
       "stream": "stdout",
       "text": [
        "\n",
        "Iter 190720, Minibatch Loss= 177.023331, Training Accuracy= 0.98438"
       ]
      },
      {
       "output_type": "stream",
       "stream": "stdout",
       "text": [
        "\n",
        "Iter 192000, Minibatch Loss= 22.204681, Training Accuracy= 0.98438"
       ]
      },
      {
       "output_type": "stream",
       "stream": "stdout",
       "text": [
        "\n",
        "Iter 193280, Minibatch Loss= 75.048561, Training Accuracy= 0.98438"
       ]
      },
      {
       "output_type": "stream",
       "stream": "stdout",
       "text": [
        "\n",
        "Iter 194560, Minibatch Loss= 210.109970, Training Accuracy= 0.97656"
       ]
      },
      {
       "output_type": "stream",
       "stream": "stdout",
       "text": [
        "\n",
        "Iter 195840, Minibatch Loss= 374.710510, Training Accuracy= 0.96094"
       ]
      },
      {
       "output_type": "stream",
       "stream": "stdout",
       "text": [
        "\n",
        "Iter 197120, Minibatch Loss= 61.600327, Training Accuracy= 0.96875"
       ]
      },
      {
       "output_type": "stream",
       "stream": "stdout",
       "text": [
        "\n",
        "Iter 198400, Minibatch Loss= 422.932281, Training Accuracy= 0.98438"
       ]
      },
      {
       "output_type": "stream",
       "stream": "stdout",
       "text": [
        "\n",
        "Iter 199680, Minibatch Loss= 184.395905, Training Accuracy= 0.97656"
       ]
      },
      {
       "output_type": "stream",
       "stream": "stdout",
       "text": [
        "\n",
        "Optimization Finished!"
       ]
      },
      {
       "output_type": "stream",
       "stream": "stdout",
       "text": [
        "\n",
        "Testing Accuracy: "
       ]
      },
      {
       "output_type": "stream",
       "stream": "stdout",
       "text": [
        "0.984375\n"
       ]
      }
     ],
     "prompt_number": 6
    }
   ],
   "metadata": {}
  }
 ]
}