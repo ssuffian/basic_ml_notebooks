{
 "metadata": {
  "name": "",
  "signature": "sha256:eb895e09927ad77afb4e26e1a2420b05823729afd2232bb212f11bc7ad49f6b7"
 },
 "nbformat": 3,
 "nbformat_minor": 0,
 "worksheets": [
  {
   "cells": [
    {
     "cell_type": "code",
     "collapsed": false,
     "input": [
      "from sklearn.datasets import load_iris\n",
      "from sklearn.ensemble import RandomForestClassifier\n",
      "import pandas as pd\n",
      "import numpy as np\n",
      "import matplotlib.pyplot as plt\n",
      "%matplotlib inline\n",
      "#Loading Data\n",
      "iris = load_iris()\n",
      "df = pd.DataFrame(iris.data, columns=iris.feature_names)\n",
      "df['species'] = pd.Categorical.from_codes(iris.target, iris.target_names)\n",
      "print df['species'].unique()\n",
      "df.head()"
     ],
     "language": "python",
     "metadata": {},
     "outputs": [
      {
       "output_type": "stream",
       "stream": "stdout",
       "text": [
        "[setosa, versicolor, virginica]\n",
        "Categories (3, object): [setosa, versicolor, virginica]\n"
       ]
      },
      {
       "html": [
        "<div style=\"max-width:1500px;overflow:auto;\">\n",
        "<table border=\"1\" class=\"dataframe\">\n",
        "  <thead>\n",
        "    <tr style=\"text-align: right;\">\n",
        "      <th></th>\n",
        "      <th>sepal length (cm)</th>\n",
        "      <th>sepal width (cm)</th>\n",
        "      <th>petal length (cm)</th>\n",
        "      <th>petal width (cm)</th>\n",
        "      <th>species</th>\n",
        "    </tr>\n",
        "  </thead>\n",
        "  <tbody>\n",
        "    <tr>\n",
        "      <th>0</th>\n",
        "      <td>5.1</td>\n",
        "      <td>3.5</td>\n",
        "      <td>1.4</td>\n",
        "      <td>0.2</td>\n",
        "      <td>setosa</td>\n",
        "    </tr>\n",
        "    <tr>\n",
        "      <th>1</th>\n",
        "      <td>4.9</td>\n",
        "      <td>3.0</td>\n",
        "      <td>1.4</td>\n",
        "      <td>0.2</td>\n",
        "      <td>setosa</td>\n",
        "    </tr>\n",
        "    <tr>\n",
        "      <th>2</th>\n",
        "      <td>4.7</td>\n",
        "      <td>3.2</td>\n",
        "      <td>1.3</td>\n",
        "      <td>0.2</td>\n",
        "      <td>setosa</td>\n",
        "    </tr>\n",
        "    <tr>\n",
        "      <th>3</th>\n",
        "      <td>4.6</td>\n",
        "      <td>3.1</td>\n",
        "      <td>1.5</td>\n",
        "      <td>0.2</td>\n",
        "      <td>setosa</td>\n",
        "    </tr>\n",
        "    <tr>\n",
        "      <th>4</th>\n",
        "      <td>5.0</td>\n",
        "      <td>3.6</td>\n",
        "      <td>1.4</td>\n",
        "      <td>0.2</td>\n",
        "      <td>setosa</td>\n",
        "    </tr>\n",
        "  </tbody>\n",
        "</table>\n",
        "</div>"
       ],
       "metadata": {},
       "output_type": "pyout",
       "prompt_number": 97,
       "text": [
        "   sepal length (cm)  sepal width (cm)  petal length (cm)  petal width (cm)  \\\n",
        "0                5.1               3.5                1.4               0.2   \n",
        "1                4.9               3.0                1.4               0.2   \n",
        "2                4.7               3.2                1.3               0.2   \n",
        "3                4.6               3.1                1.5               0.2   \n",
        "4                5.0               3.6                1.4               0.2   \n",
        "\n",
        "  species  \n",
        "0  setosa  \n",
        "1  setosa  \n",
        "2  setosa  \n",
        "3  setosa  \n",
        "4  setosa  "
       ]
      }
     ],
     "prompt_number": 97
    },
    {
     "cell_type": "code",
     "collapsed": false,
     "input": [
      "#Randomly choosing 75% of the data to be 'training' data\n",
      "df['is_train'] = np.random.uniform(0, 1, len(df)) <= .75\n",
      "train, test = df[df['is_train']==True], df[df['is_train']==False]\n",
      "\n",
      "\n",
      "#choosing which features to use for the random forest.\n",
      "features = ['sepal length (cm)','sepal width (cm)','petal length (cm)','petal width (cm)']\n",
      "clf = RandomForestClassifier(n_jobs=10)\n",
      "y, _ = pd.factorize(train['species'])\n",
      "clf.fit(train[features], y)\n",
      "\n",
      "preds = iris.target_names[clf.predict(test[features])]\n",
      "pd.crosstab(test['species'], preds, rownames=['actual'], colnames=['preds'])\n",
      "accuracy = len(test[test['species']==preds])/float(len(test['species']))\n",
      "importances = clf.feature_importances_\n",
      "indices = np.argsort(importances)[::-1]\n",
      "for i,value in enumerate(indices):\n",
      "    print \"Feature Rank \"+str(i+1)+\":\"+str(df.keys()[value])\n",
      "print \"Overall Accuracy:\"+str(int(accuracy*100))+\"%\""
     ],
     "language": "python",
     "metadata": {},
     "outputs": [
      {
       "output_type": "stream",
       "stream": "stdout",
       "text": [
        "Feature Rank 1:petal width (cm)\n",
        "Feature Rank 2:petal length (cm)\n",
        "Feature Rank 3:sepal length (cm)\n",
        "Feature Rank 4:sepal width (cm)\n",
        "Overall Accuracy:97%\n"
       ]
      }
     ],
     "prompt_number": 98
    },
    {
     "cell_type": "code",
     "collapsed": false,
     "input": [
      "features = ['sepal length (cm)','petal length (cm)']\n",
      "clf = RandomForestClassifier(n_jobs=2)\n",
      "y, _ = pd.factorize(train['species'])\n",
      "clf.fit(train[features], y)\n",
      "\n",
      "preds = iris.target_names[clf.predict(test[features])]\n",
      "pd.crosstab(test['species'], preds, rownames=['actual'], colnames=['preds'])\n",
      "accuracy = len(test[test['species']==preds])/float(len(test['species']))\n",
      "print \"Overall Accuracy:\"+str(int(accuracy*100))+\"%\""
     ],
     "language": "python",
     "metadata": {},
     "outputs": [
      {
       "output_type": "stream",
       "stream": "stdout",
       "text": [
        "Overall Accuracy:91%\n"
       ]
      }
     ],
     "prompt_number": 99
    },
    {
     "cell_type": "code",
     "collapsed": false,
     "input": [
      "setosa = df[df['species']=='setosa']\n",
      "versicolor = df[df['species']=='versicolor']\n",
      "virginica = df[df['species']=='virginica']\n",
      "\n",
      "x_variable = 'sepal length (cm)'\n",
      "y_variable = 'petal length (cm)'\n",
      "s = plt.plot(setosa[x_variable],setosa[y_variable],'bo')\n",
      "vi = plt.plot(virginica[x_variable],virginica[y_variable],'go')\n",
      "ve = plt.plot(versicolor[x_variable],versicolor[y_variable],'ro')\n",
      "lx = ve[0].axes.set_xlabel(x_variable)\n",
      "ly = ve[0].axes.set_ylabel(y_variable)"
     ],
     "language": "python",
     "metadata": {},
     "outputs": [
      {
       "metadata": {},
       "output_type": "display_data",
       "png": "[encoded data removed]",
       "text": [
        "<matplotlib.figure.Figure at 0x7fa599d91c50>"
       ]
      }
     ],
     "prompt_number": 101
    },
    {
     "cell_type": "code",
     "collapsed": false,
     "input": [],
     "language": "python",
     "metadata": {},
     "outputs": []
    }
   ],
   "metadata": {}
  }
 ]
}